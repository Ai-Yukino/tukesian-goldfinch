{
 "cells": [
  {
   "cell_type": "code",
   "execution_count": 2,
   "id": "533b4d53-55bb-493f-9b19-3c70df3fdac0",
   "metadata": {},
   "outputs": [
    {
     "data": {
      "application/vnd.jupyter.widget-view+json": {
       "model_id": "517f5a63195e4be68bcf5ccf75435de7",
       "version_major": 2,
       "version_minor": 0
      },
      "text/plain": [
       "MitoWidget(analysis_data_json='{\"analysisName\": \"UUID-67ddfa66-63f9-41f4-95f8-0052f401cc87\", \"code\": {\"imports…"
      ]
     },
     "metadata": {},
     "output_type": "display_data"
    }
   ],
   "source": [
    "import mitosheet\n",
    "mitosheet.sheet()"
   ]
  },
  {
   "cell_type": "code",
   "execution_count": null,
   "id": "98a5bc92-94fd-4793-851d-65dce1439d68",
   "metadata": {},
   "outputs": [],
   "source": [
    "from mitosheet import *; register_analysis('UUID-67ddfa66-63f9-41f4-95f8-0052f401cc87')\n",
    "\n",
    "# Imported /mnt/c/r/Ai-Yukino/tukesian-goldfinch/data/de/de.csv\n",
    "import pandas as pd\n",
    "de = pd.read_csv(r'/mnt/c/r/Ai-Yukino/tukesian-goldfinch/data/de/de.csv')\n",
    "\n",
    "# Sorted Title in de in ascending order\n",
    "de = de.sort_values(by='Title', ascending=True, na_position='first')\n"
   ]
  }
 ],
 "metadata": {
  "kernelspec": {
   "display_name": "Python 3 (ipykernel)",
   "language": "python",
   "name": "python3"
  },
  "language_info": {
   "codemirror_mode": {
    "name": "ipython",
    "version": 3
   },
   "file_extension": ".py",
   "mimetype": "text/x-python",
   "name": "python",
   "nbconvert_exporter": "python",
   "pygments_lexer": "ipython3",
   "version": "3.10.1"
  }
 },
 "nbformat": 4,
 "nbformat_minor": 5
}
