{
 "cells": [
  {
   "cell_type": "code",
   "execution_count": 1,
   "id": "533b4d53-55bb-493f-9b19-3c70df3fdac0",
   "metadata": {},
   "outputs": [
    {
     "data": {
      "application/vnd.jupyter.widget-view+json": {
       "model_id": "96dba618d238422dba9d5c9bdb8efc29",
       "version_major": 2,
       "version_minor": 0
      },
      "text/plain": [
       "MitoWidget(analysis_data_json='{\"analysisName\": \"UUID-95f92c4f-e335-410f-89d2-6459199e1e4d\", \"code\": {\"imports…"
      ]
     },
     "metadata": {},
     "output_type": "display_data"
    }
   ],
   "source": [
    "import mitosheet\n",
    "mitosheet.sheet()\n"
   ]
  },
  {
   "cell_type": "code",
   "execution_count": null,
   "id": "98a5bc92-94fd-4793-851d-65dce1439d68",
   "metadata": {},
   "outputs": [],
   "source": [
    "from mitosheet import *; register_analysis('UUID-95f92c4f-e335-410f-89d2-6459199e1e4d')\n",
    "\n",
    "# Imported /mnt/c/r/Ai-Yukino/tukesian-goldfinch/data/de/de.csv\n",
    "import pandas as pd\n",
    "de = pd.read_csv(r'/mnt/c/r/Ai-Yukino/tukesian-goldfinch/data/de/de.csv')\n",
    "\n",
    "# Sorted Title in de in ascending order\n",
    "de = de.sort_values(by='Title', ascending=True, na_position='first')\n",
    "\n",
    "# Sorted Company in de in ascending order\n",
    "de = de.sort_values(by='Company', ascending=True, na_position='first')\n",
    "\n",
    "# Sorted ID in de in ascending order\n",
    "de = de.sort_values(by='ID', ascending=True, na_position='first')\n",
    "\n",
    "# Sorted Cloud in de in descending order\n",
    "de = de.sort_values(by='Cloud', ascending=False, na_position='last')\n",
    "\n",
    "# Sorted APIs in de in descending order\n",
    "de = de.sort_values(by='APIs', ascending=False, na_position='last')\n",
    "\n",
    "# Sorted Collaboration in de in descending order\n",
    "de = de.sort_values(by='Collaboration', ascending=False, na_position='last')\n",
    "\n",
    "# Sorted DB migration in de in descending order\n",
    "de = de.sort_values(by='DB migration', ascending=False, na_position='last')\n",
    "\n",
    "# Sorted DB warehouse/modeling in de in descending order\n",
    "de = de.sort_values(by='DB warehouse/modeling', ascending=False, na_position='last')\n",
    "\n",
    "# Sorted ETL in de in descending order\n",
    "de = de.sort_values(by='ETL', ascending=False, na_position='last')\n",
    "\n",
    "# Sorted Linux in de in descending order\n",
    "de = de.sort_values(by='Linux', ascending=False, na_position='last')\n",
    "\n",
    "# Sorted Linux in de in descending order\n",
    "de = de.sort_values(by='Linux', ascending=False, na_position='last')\n",
    "\n",
    "# Sorted Jobs scheduling in de in descending order\n",
    "de = de.sort_values(by='Jobs scheduling', ascending=False, na_position='last')\n",
    "\n",
    "# Sorted SQL optimization in de in descending order\n",
    "de = de.sort_values(by='SQL optimization', ascending=False, na_position='last')\n",
    "\n",
    "# Sorted ETL in de in descending order\n",
    "de = de.sort_values(by='ETL', ascending=False, na_position='last')\n",
    "\n",
    "# Sorted Cloud in de in descending order\n",
    "de = de.sort_values(by='Cloud', ascending=False, na_position='last')\n",
    "\n",
    "# Sorted APIs in de in descending order\n",
    "de = de.sort_values(by='APIs', ascending=False, na_position='last')\n",
    "\n",
    "# Sorted Collaboration in de in descending order\n",
    "de = de.sort_values(by='Collaboration', ascending=False, na_position='last')\n",
    "\n",
    "# Pivoted de into df2\n",
    "unused_columns = de.columns.difference(set(['Title']).union(set(['APIs'])).union(set({'DB migration'})))\n",
    "tmp_df = de.drop(unused_columns, axis=1)\n",
    "pivot_table = tmp_df.pivot_table(\n",
    "    index=['Title'],\n",
    "    columns=['APIs'],\n",
    "    values=['DB migration'],\n",
    "    aggfunc={'DB migration': ['count']}\n",
    ")\n",
    "pivot_table.columns = [flatten_column_header(col) for col in pivot_table.columns.values]\n",
    "de_pivot = pivot_table.reset_index()\n",
    "\n",
    "# Reordered Title in de_pivot\n",
    "de_pivot_columns = [col for col in de_pivot.columns if col != 'Title']\n",
    "de_pivot_columns.insert(0, 'Title')\n",
    "de_pivot = de_pivot[de_pivot_columns]\n",
    "\n",
    "# Deleted dataframe de_pivot\n",
    "del de_pivot\n"
   ]
  }
 ],
 "metadata": {
  "kernelspec": {
   "display_name": "Python 3 (ipykernel)",
   "language": "python",
   "name": "python3"
  },
  "language_info": {
   "codemirror_mode": {
    "name": "ipython",
    "version": 3
   },
   "file_extension": ".py",
   "mimetype": "text/x-python",
   "name": "python",
   "nbconvert_exporter": "python",
   "pygments_lexer": "ipython3",
   "version": "3.10.1"
  }
 },
 "nbformat": 4,
 "nbformat_minor": 5
}
